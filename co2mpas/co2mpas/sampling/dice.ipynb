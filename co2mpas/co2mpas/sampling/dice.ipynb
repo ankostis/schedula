{
 "cells": [
  {
   "cell_type": "code",
   "execution_count": null,
   "metadata": {
    "collapsed": false,
    "extensions": {
     "jupyter_dashboards": {
      "version": 1,
      "views": {
       "grid_default": {},
       "report_default": {}
      }
     }
    }
   },
   "outputs": [],
   "source": [
    "%%html\n",
    "<script>\n",
    "    // AUTORUN ALL CELLS ON NOTEBOOK-LOAD!\n",
    "    require(\n",
    "        ['base/js/namespace', 'jquery'], \n",
    "        function(jupyter, $) {\n",
    "            $(jupyter.events).on(\"kernel_ready.Kernel\", function () {\n",
    "                console.log(\"Auto-running all cells-below...\");\n",
    "                actions = jupyter.actions\n",
    "                actions.call('jupyter-notebook:run-all-cells-below');\n",
    "                actions.call('jupyter-notebook:save-notebook');\n",
    "            });\n",
    "        }\n",
    "    );\n",
    "</script>"
   ]
  },
  {
   "cell_type": "code",
   "execution_count": null,
   "metadata": {
    "collapsed": false,
    "extensions": {
     "jupyter_dashboards": {
      "version": 1,
      "views": {
       "grid_default": {},
       "report_default": {}
      }
     }
    }
   },
   "outputs": [],
   "source": [
    "%matplotlib inline\n",
    "from os import path as osp\n",
    "import shutil\n",
    "from boltons.setutils import IndexedSet\n",
    "import itertools as itt\n",
    "import functools as ft\n",
    "from IPython.display import display, HTML\n",
    "from ipywidgets import Text, interact, interactive, FlexBox, Box, HTML\n",
    "import pandas as pd"
   ]
  },
  {
   "cell_type": "code",
   "execution_count": null,
   "metadata": {
    "collapsed": false
   },
   "outputs": [],
   "source": [
    "import declarativewidgets as declwidgets\n",
    "\n",
    "declwidgets.init()\n",
    "HTML('<urth-help/>')"
   ]
  },
  {
   "cell_type": "code",
   "execution_count": null,
   "metadata": {
    "collapsed": false,
    "scrolled": false
   },
   "outputs": [],
   "source": [
    "%%html\n",
    "<urth-help/>"
   ]
  },
  {
   "cell_type": "code",
   "execution_count": null,
   "metadata": {
    "collapsed": false
   },
   "outputs": [],
   "source": [
    "%%html\n",
    "<template is='urth-core-bind'>\n",
    "    <div>Hello <span>{{user}}</span></div>\n",
    "    Name: <input value='{{user::input}}'></input>\n",
    "</template>"
   ]
  },
  {
   "cell_type": "code",
   "execution_count": null,
   "metadata": {
    "collapsed": false,
    "extensions": {
     "jupyter_dashboards": {
      "version": 1,
      "views": {
       "grid_default": {
        "hidden": true
       },
       "report_default": {
        "hidden": true
       }
      }
     }
    }
   },
   "outputs": [],
   "source": [
    "%%html\n",
    "<link rel=\"import\" href=\"urth_components/urth-viz-table/urth-viz-table.html\" is=\"urth-core-import\">\n",
    "<!-- <link rel='import' href='urth_components/paper-button/paper-button.html' \n",
    "        is='urth-core-import' debug='1'>\n",
    "  var body = document.getElementsByTagName(\"body\")[0];\n",
    "-->\n",
    "<paper-button raised>Cannot Import Widgets :-(</paper-button>"
   ]
  },
  {
   "cell_type": "code",
   "execution_count": null,
   "metadata": {
    "collapsed": false,
    "extensions": {
     "jupyter_dashboards": {
      "version": 1,
      "views": {
       "grid_default": {},
       "report_default": {}
      }
     }
    }
   },
   "outputs": [],
   "source": [
    "from co2mpas.sampling import dice\n",
    "import gnupg\n",
    "from os import path as osp\n",
    "\n",
    "def _describe_gpg(gpg):\n",
    "    gpg_path = gpg.gpgbinary\n",
    "    if not osp.isabs(gpg_path):\n",
    "        gpg_path = shutil.which(gpg_path)\n",
    "        \n",
    "    ver = 'version: %s' % str(gpg.version)\n",
    "    nprivkeys = len(gpg.list_keys(True))\n",
    "    nallkeys = len(gpg.list_keys())\n",
    "    return gpg_path, ver, nprivkeys, nallkeys\n",
    "    \n",
    "#def collect_gpgs(inc_errors=1, **gpg_kws):\n",
    "def collect_gpgs():\n",
    "    print('GG:')\n",
    "    inc_errors=1\n",
    "    gpg_kws={}\n",
    "    gpg_paths = IndexedSet(itt.chain.from_iterable(dice.where(prog) for prog in ('gpg2', 'gpg')))\n",
    "    gnupghome = osp.expanduser('~/.gnupg')\n",
    "    gpg_avail = []\n",
    "    for gpg_path in gpg_paths:\n",
    "        try:\n",
    "            gpg = gnupg.GPG(gpgbinary=gpg_path, **gpg_kws)\n",
    "            row = _describe_gpg(gpg)\n",
    "        except Exception as ex:\n",
    "            #raise\n",
    "            if inc_errors:\n",
    "                row = (gpg_path, '%s: %s' % (type(ex).__name__, str(ex)), None, None)\n",
    "            else:\n",
    "                continue\n",
    "        gpg_avail.append(row)\n",
    "    \n",
    "    cols= ['GnuPG path', 'Description', '# of PRIV keys', '# of PRIV+PUB keys']\n",
    "    gpg_avail = pd.DataFrame(gpg_avail, columns=cols)\n",
    "    return gpg_avail\n",
    "\n",
    "\n",
    "gpg_avail = collect_gpgs()\n",
    "#display(gpg_avail)"
   ]
  },
  {
   "cell_type": "code",
   "execution_count": null,
   "metadata": {
    "collapsed": false,
    "extensions": {
     "jupyter_dashboards": {
      "version": 1,
      "views": {
       "grid_default": {},
       "report_default": {}
      }
     }
    }
   },
   "outputs": [],
   "source": [
    "%%html\n",
    "<!-- \n",
    "<urth-core-dataframe ref=\"gpg_avail\" value=\"{{gpgs_udf}}\" auto ></urth-core-dataframe> \n",
    "<urth-core-function id='col1' ref=\"collect_gpgs\" result=\"{{gpgs_udf}}\" args=\"\" is-ready=\"{{ready}}\" auto></urth-core-function>\n",
    "-->"
   ]
  },
  {
   "cell_type": "code",
   "execution_count": null,
   "metadata": {
    "collapsed": false,
    "extensions": {
     "jupyter_dashboards": {
      "version": 1,
      "views": {
       "grid_default": {},
       "report_default": {}
      }
     }
    }
   },
   "outputs": [],
   "source": [
    "%%html\n",
    "<template is=\"urth-core-bind\">\n",
    "    <urth-core-dataframe ref=\"gpg_avail\" value=\"{{gpgs_udf}}\" auto ></urth-core-dataframe> \n",
    "    <p>LL{{gpgs_udf.data}}KK</p>\n",
    "</template>"
   ]
  },
  {
   "cell_type": "code",
   "execution_count": null,
   "metadata": {
    "collapsed": false,
    "extensions": {
     "jupyter_dashboards": {
      "version": 1,
      "views": {
       "grid_default": {},
       "report_default": {}
      }
     }
    }
   },
   "outputs": [],
   "source": [
    "%%html\n",
    "<template is=\"urth-core-bind\">\n",
    "    <urth-core-dataframe ref=\"gpg_avail\" value=\"{{gpgs_udf}}\" auto ></urth-core-dataframe> \n",
    "    <h3>Availabel GnuPG installations: <button onClick=\"col1.invoke()\">Refresh</button></h3>\n",
    "    <urth-viz-table datarows=\"[[gpgs_udf.data]]\" selection=\"{{gpg_sel}}\" columns=\"[[gpgs_udf.columns]]\" rows-visible=6/>\n",
    "    <p>DF: {{gpg_udf.data}}, {{ready}}</p>\n",
    "</template>"
   ]
  },
  {
   "cell_type": "code",
   "execution_count": null,
   "metadata": {
    "collapsed": true,
    "extensions": {
     "jupyter_dashboards": {
      "version": 1,
      "views": {
       "grid_default": {},
       "report_default": {}
      }
     }
    }
   },
   "outputs": [],
   "source": [
    "def global_gpg(gpgbinary=\"\"):\n",
    "    global gpg\n",
    "    if gpgbinary:\n",
    "        gpg = gnupg.GPG(gpgbinary=gpgbinary)\n",
    "    \n",
    "def collect_priv_keys():\n",
    "    if gpg:\n",
    "        return pd.DataFrame(gpg.list_keys(True))"
   ]
  },
  {
   "cell_type": "code",
   "execution_count": null,
   "metadata": {
    "collapsed": false,
    "extensions": {
     "jupyter_dashboards": {
      "version": 1,
      "views": {
       "grid_default": {},
       "report_default": {}
      }
     }
    }
   },
   "outputs": [],
   "source": [
    "%%html\n",
    "<template is=\"urth-core-bind\">\n",
    "    <urth-core-function ref=\"global_gpg\" arg-gpgbinary=\"{{gpg_sel.0}}\" auto/>\n",
    "    <urth-core-function ref=\"collect_priv_keys\" result=\"{{gpg_keys}}\" auto/>\n",
    "    \n",
    "    <urth-viz-table datarows=\"[[gpg_keys.data]]\" selection=\"{{gpg_sel}}\" columns=\"[[gpg_keys.columns]]\" rows-visible=6/>\n",
    "</template>"
   ]
  },
  {
   "cell_type": "code",
   "execution_count": null,
   "metadata": {
    "collapsed": false,
    "extensions": {
     "jupyter_dashboards": {
      "version": 1,
      "views": {
       "grid_default": {},
       "report_default": {}
      }
     }
    }
   },
   "outputs": [],
   "source": [
    "%%html\n",
    "<template is='urth-core-bind' >\n",
    "    <p>{{gpg_sel}}</p>\n",
    "    Name: <input value='{{df.data}}'></input>\n",
    "</template>"
   ]
  }
 ],
 "metadata": {
  "extensions": {
   "jupyter_dashboards": {
    "activeView": "grid_default",
    "version": 1,
    "views": {
     "grid_default": {
      "cellMargin": 10,
      "defaultCellHeight": 20,
      "maxColumns": 12,
      "name": "grid",
      "type": "grid"
     },
     "report_default": {
      "name": "report",
      "type": "report"
     }
    }
   }
  },
  "kernelspec": {
   "display_name": "Python 3",
   "language": "python",
   "name": "python3"
  },
  "language_info": {
   "codemirror_mode": {
    "name": "ipython",
    "version": 3
   },
   "file_extension": ".py",
   "mimetype": "text/x-python",
   "name": "python",
   "nbconvert_exporter": "python",
   "pygments_lexer": "ipython3",
   "version": "3.5.2"
  },
  "widgets": {
   "state": {
    "2a6fe714960248328c195d6086ff3de8": {
     "views": []
    },
    "312950182b844983a60a0c44a0818468": {
     "views": []
    },
    "6ea5ab3cd7fa47a981cce64c41b0d886": {
     "views": []
    },
    "E91392B4AB3F446BB165A86B59577348": {
     "views": []
    },
    "cb54420de44e4a71b697d276fb1f8459": {
     "views": [
      {
       "cell_index": 2
      }
     ]
    }
   },
   "version": "1.1.2"
  }
 },
 "nbformat": 4,
 "nbformat_minor": 0
}
